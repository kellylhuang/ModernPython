{
 "cells": [
  {
   "cell_type": "markdown",
   "metadata": {
    "collapsed": true
   },
   "source": [
    "# k-mean"
   ]
  },
  {
   "cell_type": "code",
   "execution_count": 41,
   "metadata": {},
   "outputs": [],
   "source": [
    "from typing import Iterable, Tuple, Sequence, Dict, List\n",
    "from math import fsum, sqrt\n",
    "from functools import partial\n",
    "from collections import defaultdict\n",
    "from pprint import pprint\n",
    "from random import sample\n",
    "\n",
    "Point = Tuple[int, ...]\n",
    "Centroid = Point\n",
    "\n",
    "def mean(data : Iterable[float]) -> float:\n",
    "    data = list(data)\n",
    "    return fsum(data) / len(data)\n",
    "\n",
    "def dist(p : Point, q : Point, fsum=fsum, sqrt = sqrt, zip = zip) -> float:\n",
    "    'Euclidean distance fucntion for multi-dimensional data'\n",
    "    return sqrt(fsum([(x - y) ** 2 for x, y in zip(p, q)]))\n",
    "\n",
    "def assign_data(centroids: Sequence[Centroid], data: Iterable[Point]) -> Dict[Centroid, List[Point]]:\n",
    "    d = defaultdict(list)\n",
    "    for point in data:\n",
    "        closed_centroid = min(centroids, key = partial(dist, point))\n",
    "        d[closed_centroid].append(point)\n",
    "    return dict(d)\n",
    "\n",
    "def compute_centroids(groups: Iterable[Sequence[Point]]) -> List[Centroid]:\n",
    "    return [tuple(map(mean, zip(*group))) for group in groups]\n",
    "\n",
    "def k_mean(data: Iterable[Point], k: int=2, iterations: int=50) -> List[Centroid]:\n",
    "    data = list(data)\n",
    "    centroids = sample(data, k)\n",
    "    for i in range(iterations):\n",
    "        labeled = assign_data(centroids, data)\n",
    "        centroids = compute_centroids(labeled.values())\n",
    "    return centroids"
   ]
  },
  {
   "cell_type": "code",
   "execution_count": 57,
   "metadata": {},
   "outputs": [
    {
     "data": {
      "text/plain": [
       "[(11.0, 41.0, 13.333333333333334),\n",
       " (21.0, 32.666666666666664, 18.666666666666668)]"
      ]
     },
     "execution_count": 57,
     "metadata": {},
     "output_type": "execute_result"
    }
   ],
   "source": [
    "points = [\n",
    "    (10, 41, 23),\n",
    "    (22, 30, 29),\n",
    "    (11, 42, 5),\n",
    "    (20, 32, 4),\n",
    "    (12, 40, 12),\n",
    "    (21, 36, 23),\n",
    "]\n",
    "\n",
    "k_mean(points, k = 2)"
   ]
  },
  {
   "cell_type": "code",
   "execution_count": 60,
   "metadata": {},
   "outputs": [
    {
     "name": "stdout",
     "output_type": "stream",
     "text": [
      "{(11.0, 41.0, 13.333333333333334): [(10, 41, 23), (11, 42, 5), (12, 40, 12)],\n",
      " (21.0, 32.666666666666664, 18.666666666666668): [(22, 30, 29),\n",
      "                                                  (20, 32, 4),\n",
      "                                                  (21, 36, 23)]}\n"
     ]
    }
   ],
   "source": [
    "centroids = k_mean(points, k = 2)\n",
    "d = assign_data(centroids, points)\n",
    "pprint(d)"
   ]
  }
 ],
 "metadata": {
  "kernelspec": {
   "display_name": "Python 3",
   "language": "python",
   "name": "python3"
  },
  "language_info": {
   "codemirror_mode": {
    "name": "ipython",
    "version": 3
   },
   "file_extension": ".py",
   "mimetype": "text/x-python",
   "name": "python",
   "nbconvert_exporter": "python",
   "pygments_lexer": "ipython3",
   "version": "3.6.1"
  }
 },
 "nbformat": 4,
 "nbformat_minor": 2
}
