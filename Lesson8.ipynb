{
 "cells": [
  {
   "cell_type": "code",
   "execution_count": 42,
   "metadata": {},
   "outputs": [],
   "source": [
    "from typing import NamedTuple, DefaultDict, List\n",
    "from collections import deque, defaultdict\n",
    "from time import time\n",
    "from pprint import pprint\n",
    "from itertools import islice\n",
    "from heapq import merge\n",
    "\n",
    "User = str\n",
    "Timestamp = float\n",
    "Post = NamedTuple('Post', [('timestamp', float), ('user', User), ('text', str)])\n",
    "\n",
    "posts = deque()\n",
    "user_posts = defaultdict(deque)\n",
    "following = defaultdict(set)\n",
    "followers = defaultdict(set)\n",
    "\n",
    "def post_message(user: User, text: str, timestamp: Timestamp=None) -> None:\n",
    "    timestamp = timestamp or time()\n",
    "    post = Post(timestamp, user, text)\n",
    "    posts.appendleft(post)\n",
    "    user_posts[user].appendleft(post)\n",
    "    \n",
    "def follow(user: User, followed_user: User) -> None:\n",
    "    following[user].add(followed_user)\n",
    "    followers[followed_user].add(user)\n",
    "\n",
    "def post_by_user(user: User, limit: int=None) -> List[Post]:\n",
    "    return list(islice(user_posts[user], limit))\n",
    "\n",
    "def post_for_user(user: User, limit: int=None) -> List[Post]:\n",
    "    relevant = merge(*[user_posts[fu] for fu in following[user]], reverse=True)\n",
    "    return list(islcie(relevant, limit))\n",
    "\n",
    "def search(phrase: str, limit: int=None) -> List[Post]:\n",
    "    return list(islice((post for post in posts if phrase in post.text), limit))"
   ]
  },
  {
   "cell_type": "code",
   "execution_count": 22,
   "metadata": {},
   "outputs": [
    {
     "name": "stdout",
     "output_type": "stream",
     "text": [
      "deque([Post(timestamp=1506829031.9806027, user='user3', text='i love typing3'),\n",
      "       Post(timestamp=1506829031.9806027, user='user2', text='i love typing2'),\n",
      "       Post(timestamp=1506829031.9806027, user='user1', text='i love typing1'),\n",
      "       Post(timestamp=1506829029.9780471, user='user3', text='i love typing3'),\n",
      "       Post(timestamp=1506829029.9780471, user='user2', text='i love typing2'),\n",
      "       Post(timestamp=1506829029.9780471, user='user1', text='i love typing1')])\n"
     ]
    }
   ],
   "source": [
    "post_message('user1', 'i love typing1')\n",
    "post_message('user2', 'i love typing2')\n",
    "post_message('user3', 'i love typing3')\n",
    "\n",
    "pprint(posts)\n"
   ]
  },
  {
   "cell_type": "code",
   "execution_count": 23,
   "metadata": {},
   "outputs": [
    {
     "name": "stdout",
     "output_type": "stream",
     "text": [
      "defaultdict(<class 'set'>, {'user1': {'user3', 'user2'}})\n"
     ]
    }
   ],
   "source": [
    "follow('user1', 'user2')\n",
    "follow('user1', 'user3')\n",
    "pprint(following)"
   ]
  },
  {
   "cell_type": "code",
   "execution_count": 25,
   "metadata": {},
   "outputs": [
    {
     "name": "stdout",
     "output_type": "stream",
     "text": [
      "defaultdict(<class 'set'>, {'user2': {'user1'}, 'user3': {'user1'}})\n"
     ]
    }
   ],
   "source": [
    "pprint(followers)"
   ]
  },
  {
   "cell_type": "code",
   "execution_count": 27,
   "metadata": {},
   "outputs": [
    {
     "name": "stdout",
     "output_type": "stream",
     "text": [
      "[Post(timestamp=1506829031.9806027, user='user1', text='i love typing1'),\n",
      " Post(timestamp=1506829029.9780471, user='user1', text='i love typing1')]\n"
     ]
    }
   ],
   "source": [
    "pprint(post_by_user('user1'))"
   ]
  },
  {
   "cell_type": "code",
   "execution_count": 29,
   "metadata": {},
   "outputs": [
    {
     "name": "stdout",
     "output_type": "stream",
     "text": [
      "[Post(timestamp=1506829031.9806027, user='user1', text='i love typing1')]\n"
     ]
    }
   ],
   "source": [
    "pprint(post_by_user('user1', limit = 1))"
   ]
  }
 ],
 "metadata": {
  "kernelspec": {
   "display_name": "Python 3",
   "language": "python",
   "name": "python3"
  },
  "language_info": {
   "codemirror_mode": {
    "name": "ipython",
    "version": 3
   },
   "file_extension": ".py",
   "mimetype": "text/x-python",
   "name": "python",
   "nbconvert_exporter": "python",
   "pygments_lexer": "ipython3",
   "version": "3.6.1"
  }
 },
 "nbformat": 4,
 "nbformat_minor": 2
}
