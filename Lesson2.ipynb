{
 "cells": [
  {
   "cell_type": "markdown",
   "metadata": {},
   "source": [
    "# Six route wheel spins"
   ]
  },
  {
   "cell_type": "code",
   "execution_count": 2,
   "metadata": {},
   "outputs": [
    {
     "data": {
      "text/plain": [
       "'red'"
      ]
     },
     "execution_count": 2,
     "metadata": {},
     "output_type": "execute_result"
    }
   ],
   "source": [
    "from random import *\n",
    "from statistics import *\n",
    "from collections import *\n",
    "\n",
    "population = ['red'] * 18 + ['black'] * 18 + ['green'] * 2\n",
    "choice(population)"
   ]
  },
  {
   "cell_type": "code",
   "execution_count": 3,
   "metadata": {},
   "outputs": [
    {
     "data": {
      "text/plain": [
       "['black', 'black', 'green', 'red', 'red', 'black']"
      ]
     },
     "execution_count": 3,
     "metadata": {},
     "output_type": "execute_result"
    }
   ],
   "source": [
    "[choice(population) for i in range(6)]"
   ]
  },
  {
   "cell_type": "code",
   "execution_count": 4,
   "metadata": {},
   "outputs": [
    {
     "data": {
      "text/plain": [
       "Counter({'black': 3, 'red': 3})"
      ]
     },
     "execution_count": 4,
     "metadata": {},
     "output_type": "execute_result"
    }
   ],
   "source": [
    "Counter([choice(population) for i in range(6)])"
   ]
  },
  {
   "cell_type": "code",
   "execution_count": 5,
   "metadata": {},
   "outputs": [
    {
     "data": {
      "text/plain": [
       "Counter({'black': 3, 'red': 3})"
      ]
     },
     "execution_count": 5,
     "metadata": {},
     "output_type": "execute_result"
    }
   ],
   "source": [
    "Counter(choices(population, k = 6))"
   ]
  },
  {
   "cell_type": "code",
   "execution_count": 6,
   "metadata": {},
   "outputs": [
    {
     "data": {
      "text/plain": [
       "Counter({'black': 2, 'red': 4})"
      ]
     },
     "execution_count": 6,
     "metadata": {},
     "output_type": "execute_result"
    }
   ],
   "source": [
    "Counter(choices(['red', 'black', 'green'], [18, 18, 2], k = 6))"
   ]
  },
  {
   "cell_type": "markdown",
   "metadata": {},
   "source": [
    "# Playing cards"
   ]
  },
  {
   "cell_type": "code",
   "execution_count": 7,
   "metadata": {},
   "outputs": [
    {
     "data": {
      "text/plain": [
       "Counter({'low': 24, 'tens': 8})"
      ]
     },
     "execution_count": 7,
     "metadata": {},
     "output_type": "execute_result"
    }
   ],
   "source": [
    "deck = Counter(tens = 16, low = 36)\n",
    "deck = list(deck.elements())\n",
    "deal = sample(deck, 52)\n",
    "remainder = deal[20:]\n",
    "Counter(remainder)"
   ]
  },
  {
   "cell_type": "markdown",
   "metadata": {},
   "source": [
    "# 5 or more heads from 7 spins of a biased coin"
   ]
  },
  {
   "cell_type": "code",
   "execution_count": 8,
   "metadata": {},
   "outputs": [
    {
     "data": {
      "text/plain": [
       "0.41835"
      ]
     },
     "execution_count": 8,
     "metadata": {},
     "output_type": "execute_result"
    }
   ],
   "source": [
    "# empirical result\n",
    "trial = lambda : choices(['heads', 'tails'], cum_weights=[0.60, 1.00], k = 7).count('heads') >= 5\n",
    "n = 100000\n",
    "sum(trial() for i in range(n)) / n"
   ]
  },
  {
   "cell_type": "code",
   "execution_count": 9,
   "metadata": {},
   "outputs": [
    {
     "data": {
      "text/plain": [
       "0.419904"
      ]
     },
     "execution_count": 9,
     "metadata": {},
     "output_type": "execute_result"
    }
   ],
   "source": [
    "# Compare to the analytic approach\n",
    "# theoretical result\n",
    "from math import factorial as fact\n",
    "def comb(n, r):\n",
    "    return fact(n) // fact(r) // fact(n - r)\n",
    "comb(10, 3)\n",
    "\n",
    "ph = 0.6\n",
    "# 5 heads out of 7 spins\n",
    "ph ** 5 * (1 - ph) ** 2 * comb(7, 5) + \\\n",
    "ph ** 6 * (1 - ph) ** 1 * comb(7, 6) + \\\n",
    "ph ** 7 * (1 - ph) ** 0 * comb(7, 7)\n"
   ]
  },
  {
   "cell_type": "markdown",
   "metadata": {},
   "source": [
    "# Probability that median of 5 samples falls a middle quartile"
   ]
  },
  {
   "cell_type": "code",
   "execution_count": 10,
   "metadata": {},
   "outputs": [
    {
     "data": {
      "text/plain": [
       "0.7924"
      ]
     },
     "execution_count": 10,
     "metadata": {},
     "output_type": "execute_result"
    }
   ],
   "source": [
    "trial = lambda : n // 4 <= median(sample(range(n), 5)) <= 3 * n // 4\n",
    "sum(trial() for i in range(n)) / n"
   ]
  },
  {
   "cell_type": "markdown",
   "metadata": {},
   "source": [
    "# Confidence intervals"
   ]
  },
  {
   "cell_type": "code",
   "execution_count": 11,
   "metadata": {},
   "outputs": [
    {
     "name": "stdout",
     "output_type": "stream",
     "text": [
      "The observed mean of 9.315384615384616\n",
      "Falls in 90% confidence interval from  8.4 to  10.4\n"
     ]
    }
   ],
   "source": [
    "timings = [7.8, 8.9, 9.1, 6.9, 10.1, 15.6, 12.6, 9.1, 8.6, 6.8, 7.9, 8.1, 9.6]\n",
    "def bootstrap(data):\n",
    "    return choices(data, k=len(data))\n",
    "n = 10000\n",
    "means = sorted(mean(bootstrap(timings)) for i in range(n))\n",
    "print(f'The observed mean of {mean(timings)}')\n",
    "print(f'Falls in 90% confidence interval from {means[500] : .1f} to {means[-500] : .1f}')"
   ]
  },
  {
   "cell_type": "markdown",
   "metadata": {},
   "source": [
    "# Statistical difference"
   ]
  },
  {
   "cell_type": "code",
   "execution_count": 12,
   "metadata": {},
   "outputs": [
    {
     "name": "stdout",
     "output_type": "stream",
     "text": [
      "1.5700000000000012\n"
     ]
    }
   ],
   "source": [
    "drug = [7.8, 8.9, 9.1, 6.9, 10.1, 15.6, 12.6, 9.1, 8.6, 6.8]\n",
    "placedo = [7.8, 8.1, 9.1, 6.9, 3.2, 10.6, 10.6, 8.1, 8.6, 6.8]\n",
    "obs_diff = mean(drug) - mean(placedo)\n",
    "print(obs_diff)"
   ]
  },
  {
   "cell_type": "markdown",
   "metadata": {},
   "source": [
    "# Null hypothesis assumes 2 groups are equivalent"
   ]
  },
  {
   "cell_type": "code",
   "execution_count": 23,
   "metadata": {},
   "outputs": [
    {
     "data": {
      "text/plain": [
       "0.08806"
      ]
     },
     "execution_count": 23,
     "metadata": {},
     "output_type": "execute_result"
    }
   ],
   "source": [
    "n = len(drug)\n",
    "comb = drug + placedo\n",
    "newdiffs = []\n",
    "def trail():\n",
    "    shuffle(comb)\n",
    "    drug = comb[:n]\n",
    "    placedo = comb[n:]\n",
    "    new_diff = mean(drug) - mean(placedo)\n",
    "    return new_diff >= obs_diff\n",
    "count = 100000\n",
    "sum(trail() for i in range(count)) / count    #p-value. If p-value is <= 0.05, then it is statistical different."
   ]
  },
  {
   "cell_type": "markdown",
   "metadata": {},
   "source": [
    "# Toss coins"
   ]
  },
  {
   "cell_type": "code",
   "execution_count": 21,
   "metadata": {},
   "outputs": [
    {
     "name": "stdout",
     "output_type": "stream",
     "text": [
      "0.0081\n"
     ]
    }
   ],
   "source": [
    "# Toss a coind 30 times and see 22 heads. Is it a fair coin?\n",
    "# Assue the Skeptic is correct: Even a fair coind could show 22 heads in 30 tosses. It might be just chance.\n",
    "# Test the Null Hypothesis: What's the probability of a fair coin showing 22 heads simply by chance.\n",
    "# The code below is doing simulation.\n",
    "m = 0\n",
    "n = 10000\n",
    "for i in range(n):\n",
    "    if sum(randint(0, 1) for j in range(30)) >= 22:\n",
    "        m += 1\n",
    "pvalue = m / n\n",
    "print(pvalue)\n",
    "# pvalue is around 0.008, reject fair coin hypothesis at p < 0.05. So it is not a fair coin. The coin is biased."
   ]
  },
  {
   "cell_type": "markdown",
   "metadata": {},
   "source": [
    "# If pvalue is below 0.05, significant difference does exist and reject the Null Hypothesis. If it is over 0.05,  significant difference does not exist. "
   ]
  }
 ],
 "metadata": {
  "kernelspec": {
   "display_name": "Python 3",
   "language": "python",
   "name": "python3"
  },
  "language_info": {
   "codemirror_mode": {
    "name": "ipython",
    "version": 3
   },
   "file_extension": ".py",
   "mimetype": "text/x-python",
   "name": "python",
   "nbconvert_exporter": "python",
   "pygments_lexer": "ipython3",
   "version": "3.6.1"
  }
 },
 "nbformat": 4,
 "nbformat_minor": 2
}
